{
 "cells": [
  {
   "cell_type": "code",
   "execution_count": 3,
   "metadata": {},
   "outputs": [],
   "source": [
    "import pandas as pd\n",
    "from ukbpatiming.timing import timing_of_day, timing_of_weekend, timing_of_weekday, time_distribution"
   ]
  },
  {
   "attachments": {},
   "cell_type": "markdown",
   "metadata": {},
   "source": [
    "### Load example data"
   ]
  },
  {
   "cell_type": "code",
   "execution_count": 5,
   "metadata": {},
   "outputs": [],
   "source": [
    "df = pd.read_csv('example_data/example_data.csv')\n"
   ]
  },
  {
   "attachments": {},
   "cell_type": "markdown",
   "metadata": {},
   "source": [
    "### Compute timing of PA in terms of MET hours\n",
    "Here we use the default hours setting: morning 6am-12pm, afternoon 12pm-6pm, evening 6pmm-12pm. You may change this by passing different parameters. For example, if you would like to specify morning to be 5am-12pm, you may change to `morn_hrs = [5,6,7,8,9,10,11]`.\n",
    "\n",
    "Make sure the column `{type_act}-hourOfDay-{hour}-avg` is available in your dataframe."
   ]
  },
  {
   "cell_type": "code",
   "execution_count": null,
   "metadata": {},
   "outputs": [],
   "source": [
    "timing_of_day(df, timing='morning', type_act='MET', morn_hrs=[6, 7, 8, 9, 10, 11],\n",
    "              aftn_hrs=[12, 13, 14, 15, 16, 17], even_hrs=[18, 19, 20, 21, 22, 23])\n",
    "timing_of_day(df, timing='afternoon', type_act='MET', morn_hrs=[6, 7, 8, 9, 10, 11],\n",
    "              aftn_hrs=[12, 13, 14, 15, 16, 17], even_hrs=[18, 19, 20, 21, 22, 23])\n",
    "timing_of_day(df, timing='evening', type_act='MET', morn_hrs=[6, 7, 8, 9, 10, 11],\n",
    "              aftn_hrs=[12, 13, 14, 15, 16, 17], even_hrs=[18, 19, 20, 21, 22, 23])\n"
   ]
  },
  {
   "attachments": {},
   "cell_type": "markdown",
   "metadata": {},
   "source": [
    "### Categorize people into groups\n",
    "Categorize people into morning, afternoon, evening, or evenly_distributed groups based on how many hours they perform activities. If they perform the most in the morning, then they are categorized as morning person. \n",
    "\n",
    "Make sure `{type_act}-overall-avg` is available in your dataframe to specify the total average time of exercising in an hour, e.g. 0.3 hours per hour per day, which means 0.3*7*24 hours per week."
   ]
  },
  {
   "cell_type": "code",
   "execution_count": null,
   "metadata": {},
   "outputs": [],
   "source": [
    "time_distribution(df, 'MET')"
   ]
  },
  {
   "attachments": {},
   "cell_type": "markdown",
   "metadata": {},
   "source": [
    "### Other PA measurement\n",
    "We could use other criteria to as PA measurement such as MVPA, VPA. We could also measure the sleep or sedentary time. In this case, total hour of sitting in the morning, for exampel, will be calculated. A people categorized as morning person will indicate they are more inactive in the morning."
   ]
  },
  {
   "attachments": {},
   "cell_type": "markdown",
   "metadata": {},
   "source": [
    "timing_of_weekend(df, timing='morning', type_act='VPA')\n",
    "\n",
    "timing_of_weekday(df, timing='afternoon', type_act='MVPA')\n",
    "\n",
    "timing_of_weekend(df, timing='evening', type_act='sedentary')\n",
    "\n"
   ]
  }
 ],
 "metadata": {
  "kernelspec": {
   "display_name": "Python 3",
   "language": "python",
   "name": "python3"
  },
  "language_info": {
   "codemirror_mode": {
    "name": "ipython",
    "version": 3
   },
   "file_extension": ".py",
   "mimetype": "text/x-python",
   "name": "python",
   "nbconvert_exporter": "python",
   "pygments_lexer": "ipython3",
   "version": "3.8.3"
  },
  "orig_nbformat": 4,
  "vscode": {
   "interpreter": {
    "hash": "763e8f91f786bdd2bf53fc14f45c1eacfdf1cfd159c894b6f1d4a76c47de891d"
   }
  }
 },
 "nbformat": 4,
 "nbformat_minor": 2
}
